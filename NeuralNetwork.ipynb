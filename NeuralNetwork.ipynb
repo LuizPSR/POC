{
 "cells": [
  {
   "cell_type": "code",
   "execution_count": 1,
   "id": "e140aaa2-30ab-4b4e-b883-caf01174a9eb",
   "metadata": {},
   "outputs": [],
   "source": [
    "import numpy as np\n",
    "import pandas as pd\n",
    "\n",
    "from numba import njit, prange, double"
   ]
  },
  {
   "cell_type": "code",
   "execution_count": 2,
   "id": "d8efb332-aa87-46e5-9fa5-140e15a0e5a5",
   "metadata": {},
   "outputs": [],
   "source": [
    "# set random state\n",
    "np.random.seed(123)\n",
    "\n",
    "# since numba utilize its own random state, which can be made unsafe\n",
    "# with parallelism, lets avoid randomness inside numba entirely"
   ]
  },
  {
   "cell_type": "markdown",
   "id": "eef23f69-10e7-4fa9-b6d3-d800b5bcadfc",
   "metadata": {},
   "source": [
    "# Explore database"
   ]
  },
  {
   "cell_type": "markdown",
   "id": "2013d60f-78eb-4836-8385-27983819ece6",
   "metadata": {},
   "source": [
    "It contains the following 6 fields:\n",
    "\n",
    "**target**: the polarity of the tweet (0 = negative, 2 = neutral, 4 = positive). No neutral entry is present.\n",
    "\n",
    "**ids**: The id of the tweet ( 2087)\n",
    "\n",
    "**date**: the date of the tweet (Sat May 16 23:58:44 UTC 2009)\n",
    "\n",
    "**flag**: The query (lyx). If there is no query, then this value is NO_QUERY.\n",
    "\n",
    "**user**: the user that tweeted (robotickilldozr)\n",
    "\n",
    "**text**: the text of the tweet (Lyx is cool)"
   ]
  },
  {
   "cell_type": "code",
   "execution_count": 3,
   "id": "7ad17953-d48a-47a7-8469-a30831561f4e",
   "metadata": {},
   "outputs": [
    {
     "data": {
      "text/html": [
       "<div>\n",
       "<style scoped>\n",
       "    .dataframe tbody tr th:only-of-type {\n",
       "        vertical-align: middle;\n",
       "    }\n",
       "\n",
       "    .dataframe tbody tr th {\n",
       "        vertical-align: top;\n",
       "    }\n",
       "\n",
       "    .dataframe thead th {\n",
       "        text-align: right;\n",
       "    }\n",
       "</style>\n",
       "<table border=\"1\" class=\"dataframe\">\n",
       "  <thead>\n",
       "    <tr style=\"text-align: right;\">\n",
       "      <th></th>\n",
       "      <th>target</th>\n",
       "      <th>ids</th>\n",
       "      <th>date</th>\n",
       "      <th>flag</th>\n",
       "      <th>user</th>\n",
       "      <th>text</th>\n",
       "    </tr>\n",
       "  </thead>\n",
       "  <tbody>\n",
       "    <tr>\n",
       "      <th>0</th>\n",
       "      <td>0</td>\n",
       "      <td>1467810369</td>\n",
       "      <td>Mon Apr 06 22:19:45 PDT 2009</td>\n",
       "      <td>NO_QUERY</td>\n",
       "      <td>_TheSpecialOne_</td>\n",
       "      <td>@switchfoot http://twitpic.com/2y1zl - Awww, t...</td>\n",
       "    </tr>\n",
       "    <tr>\n",
       "      <th>1</th>\n",
       "      <td>0</td>\n",
       "      <td>1467810672</td>\n",
       "      <td>Mon Apr 06 22:19:49 PDT 2009</td>\n",
       "      <td>NO_QUERY</td>\n",
       "      <td>scotthamilton</td>\n",
       "      <td>is upset that he can't update his Facebook by ...</td>\n",
       "    </tr>\n",
       "    <tr>\n",
       "      <th>2</th>\n",
       "      <td>0</td>\n",
       "      <td>1467810917</td>\n",
       "      <td>Mon Apr 06 22:19:53 PDT 2009</td>\n",
       "      <td>NO_QUERY</td>\n",
       "      <td>mattycus</td>\n",
       "      <td>@Kenichan I dived many times for the ball. Man...</td>\n",
       "    </tr>\n",
       "    <tr>\n",
       "      <th>3</th>\n",
       "      <td>0</td>\n",
       "      <td>1467811184</td>\n",
       "      <td>Mon Apr 06 22:19:57 PDT 2009</td>\n",
       "      <td>NO_QUERY</td>\n",
       "      <td>ElleCTF</td>\n",
       "      <td>my whole body feels itchy and like its on fire</td>\n",
       "    </tr>\n",
       "    <tr>\n",
       "      <th>4</th>\n",
       "      <td>0</td>\n",
       "      <td>1467811193</td>\n",
       "      <td>Mon Apr 06 22:19:57 PDT 2009</td>\n",
       "      <td>NO_QUERY</td>\n",
       "      <td>Karoli</td>\n",
       "      <td>@nationwideclass no, it's not behaving at all....</td>\n",
       "    </tr>\n",
       "  </tbody>\n",
       "</table>\n",
       "</div>"
      ],
      "text/plain": [
       "   target         ids                          date      flag  \\\n",
       "0       0  1467810369  Mon Apr 06 22:19:45 PDT 2009  NO_QUERY   \n",
       "1       0  1467810672  Mon Apr 06 22:19:49 PDT 2009  NO_QUERY   \n",
       "2       0  1467810917  Mon Apr 06 22:19:53 PDT 2009  NO_QUERY   \n",
       "3       0  1467811184  Mon Apr 06 22:19:57 PDT 2009  NO_QUERY   \n",
       "4       0  1467811193  Mon Apr 06 22:19:57 PDT 2009  NO_QUERY   \n",
       "\n",
       "              user                                               text  \n",
       "0  _TheSpecialOne_  @switchfoot http://twitpic.com/2y1zl - Awww, t...  \n",
       "1    scotthamilton  is upset that he can't update his Facebook by ...  \n",
       "2         mattycus  @Kenichan I dived many times for the ball. Man...  \n",
       "3          ElleCTF    my whole body feels itchy and like its on fire   \n",
       "4           Karoli  @nationwideclass no, it's not behaving at all....  "
      ]
     },
     "execution_count": 3,
     "metadata": {},
     "output_type": "execute_result"
    }
   ],
   "source": [
    "headers= [ 'target', 'ids', 'date', 'flag', 'user', 'text']\n",
    "df = pd.read_csv(\"Sentiment140.csv\", names=headers, encoding = \"latin\", )\n",
    "df.head()"
   ]
  },
  {
   "cell_type": "code",
   "execution_count": 16,
   "id": "3d401a5a-5b25-40fe-aa48-9cb3e08e25e3",
   "metadata": {},
   "outputs": [
    {
     "data": {
      "text/html": [
       "<div>\n",
       "<style scoped>\n",
       "    .dataframe tbody tr th:only-of-type {\n",
       "        vertical-align: middle;\n",
       "    }\n",
       "\n",
       "    .dataframe tbody tr th {\n",
       "        vertical-align: top;\n",
       "    }\n",
       "\n",
       "    .dataframe thead th {\n",
       "        text-align: right;\n",
       "    }\n",
       "</style>\n",
       "<table border=\"1\" class=\"dataframe\">\n",
       "  <thead>\n",
       "    <tr style=\"text-align: right;\">\n",
       "      <th></th>\n",
       "      <th>target</th>\n",
       "      <th>text</th>\n",
       "    </tr>\n",
       "  </thead>\n",
       "  <tbody>\n",
       "    <tr>\n",
       "      <th>0</th>\n",
       "      <td>0</td>\n",
       "      <td>@ awww thats a bummer you shoulda got david ca...</td>\n",
       "    </tr>\n",
       "    <tr>\n",
       "      <th>1</th>\n",
       "      <td>0</td>\n",
       "      <td>is upset that he cant update his facebook by t...</td>\n",
       "    </tr>\n",
       "    <tr>\n",
       "      <th>2</th>\n",
       "      <td>0</td>\n",
       "      <td>@ i dived many times for the ball managed to s...</td>\n",
       "    </tr>\n",
       "    <tr>\n",
       "      <th>3</th>\n",
       "      <td>0</td>\n",
       "      <td>my whole body feels itchy and like its on fire</td>\n",
       "    </tr>\n",
       "    <tr>\n",
       "      <th>4</th>\n",
       "      <td>0</td>\n",
       "      <td>@ no its not behaving at all im mad why am i h...</td>\n",
       "    </tr>\n",
       "    <tr>\n",
       "      <th>...</th>\n",
       "      <td>...</td>\n",
       "      <td>...</td>\n",
       "    </tr>\n",
       "    <tr>\n",
       "      <th>1599995</th>\n",
       "      <td>1</td>\n",
       "      <td>just woke up having no school is the best feel...</td>\n",
       "    </tr>\n",
       "    <tr>\n",
       "      <th>1599996</th>\n",
       "      <td>1</td>\n",
       "      <td>thewdbcom very cool to hear old walt interview...</td>\n",
       "    </tr>\n",
       "    <tr>\n",
       "      <th>1599997</th>\n",
       "      <td>1</td>\n",
       "      <td>are you ready for your mojo makeover ask me fo...</td>\n",
       "    </tr>\n",
       "    <tr>\n",
       "      <th>1599998</th>\n",
       "      <td>1</td>\n",
       "      <td>happy 38th birthday to my boo of alll time tup...</td>\n",
       "    </tr>\n",
       "    <tr>\n",
       "      <th>1599999</th>\n",
       "      <td>1</td>\n",
       "      <td>happy charitytuesday @ @ @</td>\n",
       "    </tr>\n",
       "  </tbody>\n",
       "</table>\n",
       "<p>1600000 rows × 2 columns</p>\n",
       "</div>"
      ],
      "text/plain": [
       "         target                                               text\n",
       "0             0  @ awww thats a bummer you shoulda got david ca...\n",
       "1             0  is upset that he cant update his facebook by t...\n",
       "2             0  @ i dived many times for the ball managed to s...\n",
       "3             0     my whole body feels itchy and like its on fire\n",
       "4             0  @ no its not behaving at all im mad why am i h...\n",
       "...         ...                                                ...\n",
       "1599995       1  just woke up having no school is the best feel...\n",
       "1599996       1  thewdbcom very cool to hear old walt interview...\n",
       "1599997       1  are you ready for your mojo makeover ask me fo...\n",
       "1599998       1  happy 38th birthday to my boo of alll time tup...\n",
       "1599999       1                         happy charitytuesday @ @ @\n",
       "\n",
       "[1600000 rows x 2 columns]"
      ]
     },
     "execution_count": 16,
     "metadata": {},
     "output_type": "execute_result"
    }
   ],
   "source": [
    "# we wish to predict sentiment based only on the text\n",
    "df = df[['target', 'text']]\n",
    "df"
   ]
  },
  {
   "cell_type": "markdown",
   "id": "890b5330-4681-423b-ae69-e6b4af606eb8",
   "metadata": {},
   "source": [
    "Now that we narrow down the useful columns, lets normalize the data."
   ]
  },
  {
   "cell_type": "code",
   "execution_count": 5,
   "id": "a776ceb9-433d-44af-99db-77688a8fa161",
   "metadata": {},
   "outputs": [
    {
     "data": {
      "text/plain": [
       "array([0, 4])"
      ]
     },
     "execution_count": 5,
     "metadata": {},
     "output_type": "execute_result"
    }
   ],
   "source": [
    "df['target'].unique()"
   ]
  },
  {
   "cell_type": "code",
   "execution_count": 6,
   "id": "d193a051-95a2-4367-8b67-b0d21142658c",
   "metadata": {},
   "outputs": [
    {
     "data": {
      "text/plain": [
       "array([0, 1])"
      ]
     },
     "execution_count": 6,
     "metadata": {},
     "output_type": "execute_result"
    }
   ],
   "source": [
    "# normilize target input\n",
    "df.loc[df['target'] == 0, 'target'] = 0\n",
    "df.loc[df['target'] == 4, 'target'] = 1\n",
    "df['target'].unique()"
   ]
  },
  {
   "cell_type": "markdown",
   "id": "f723c365-3311-4ca0-831e-1235383ad761",
   "metadata": {},
   "source": [
    "Normalizing the messages will be trickier. Lets start by removing links, punctuation, and condensing all mentions as a simple @."
   ]
  },
  {
   "cell_type": "code",
   "execution_count": 7,
   "id": "a0cb7059-4e1b-49f0-ab98-64ff838374e7",
   "metadata": {},
   "outputs": [
    {
     "data": {
      "text/html": [
       "<div>\n",
       "<style scoped>\n",
       "    .dataframe tbody tr th:only-of-type {\n",
       "        vertical-align: middle;\n",
       "    }\n",
       "\n",
       "    .dataframe tbody tr th {\n",
       "        vertical-align: top;\n",
       "    }\n",
       "\n",
       "    .dataframe thead th {\n",
       "        text-align: right;\n",
       "    }\n",
       "</style>\n",
       "<table border=\"1\" class=\"dataframe\">\n",
       "  <thead>\n",
       "    <tr style=\"text-align: right;\">\n",
       "      <th></th>\n",
       "      <th>target</th>\n",
       "      <th>text</th>\n",
       "    </tr>\n",
       "  </thead>\n",
       "  <tbody>\n",
       "    <tr>\n",
       "      <th>0</th>\n",
       "      <td>0</td>\n",
       "      <td>@ awww thats a bummer you shoulda got david ca...</td>\n",
       "    </tr>\n",
       "    <tr>\n",
       "      <th>1</th>\n",
       "      <td>0</td>\n",
       "      <td>is upset that he cant update his facebook by t...</td>\n",
       "    </tr>\n",
       "    <tr>\n",
       "      <th>2</th>\n",
       "      <td>0</td>\n",
       "      <td>@ i dived many times for the ball managed to s...</td>\n",
       "    </tr>\n",
       "    <tr>\n",
       "      <th>3</th>\n",
       "      <td>0</td>\n",
       "      <td>my whole body feels itchy and like its on fire</td>\n",
       "    </tr>\n",
       "    <tr>\n",
       "      <th>4</th>\n",
       "      <td>0</td>\n",
       "      <td>@ no its not behaving at all im mad why am i h...</td>\n",
       "    </tr>\n",
       "  </tbody>\n",
       "</table>\n",
       "</div>"
      ],
      "text/plain": [
       "   target                                               text\n",
       "0       0  @ awww thats a bummer you shoulda got david ca...\n",
       "1       0  is upset that he cant update his facebook by t...\n",
       "2       0  @ i dived many times for the ball managed to s...\n",
       "3       0     my whole body feels itchy and like its on fire\n",
       "4       0  @ no its not behaving at all im mad why am i h..."
      ]
     },
     "execution_count": 7,
     "metadata": {},
     "output_type": "execute_result"
    }
   ],
   "source": [
    "import re\n",
    "\n",
    "def normalize_text(text):\n",
    "    # condense metions\n",
    "    text = re.sub(\"@\\w+\", \"@\", text)\n",
    "    # remove links\n",
    "    text = re.sub(\"http\\S+|www\\.\\S+\", \"\", text)\n",
    "    # remove punctuation\n",
    "    text = text.translate(str.maketrans('', '', '!\"#$%&\\'()*+,-./:;<=>?[\\\\]^_`{|}~'))\n",
    "    # Clean up extra whitespace\n",
    "    text = re.sub(r'\\s+', ' ', text).strip()\n",
    "    \n",
    "    return text.lower()\n",
    "    \n",
    "df['text'] = df['text'].map(normalize_text)\n",
    "df.head()"
   ]
  },
  {
   "cell_type": "code",
   "execution_count": 10,
   "id": "2ab1e1a1-c7ac-44f6-b72a-77fcb0825b3d",
   "metadata": {},
   "outputs": [],
   "source": [
    "from tensorflow.keras.preprocessing.text import Tokenizer\n",
    "from tensorflow.keras.preprocessing.sequence import pad_sequences\n",
    "\n",
    "# Tokenization and vectorization\n",
    "tokenizer = Tokenizer()  # Default settings: will tokenize based on words\n",
    "tokenizer.fit_on_texts(df['text'])  # Fit tokenizer on the cleaned text\n",
    "sequences = tokenizer.texts_to_sequences(df['text'])  # Convert text to sequences\n",
    "\n",
    "# Padding sequences\n",
    "max_length = max(len(seq) for seq in sequences)  # Find the longest sequence\n",
    "padded = pad_sequences(sequences, maxlen=max_length, padding='post')  # Pad all to the same length"
   ]
  },
  {
   "cell_type": "code",
   "execution_count": 14,
   "id": "8f2821a7-887c-40aa-baa6-cfa46313b811",
   "metadata": {},
   "outputs": [
    {
     "name": "stdout",
     "output_type": "stream",
     "text": [
      "\n",
      "vocabury size = 450311\n",
      "text max size = 40\n",
      "\n"
     ]
    }
   ],
   "source": [
    "print(f\"\"\"\n",
    "vocabury size = {len(np.unique(padded))}\n",
    "text max size = {padded.shape[1]}\n",
    "\"\"\")"
   ]
  },
  {
   "cell_type": "markdown",
   "id": "d77951fe-ea8c-4c78-93b6-254a6547743e",
   "metadata": {},
   "source": [
    "# SCNN"
   ]
  },
  {
   "cell_type": "code",
   "execution_count": null,
   "id": "ff6eb710-dc90-41ad-be61-d3e71ad6a15e",
   "metadata": {},
   "outputs": [],
   "source": [
    "# activation function\n",
    "@njit\n",
    "def activation(x):\n",
    "    return return 1 / (1 + np.exp(-x))\n",
    "\n",
    "@njit\n",
    "def derivated(x):\n",
    "    return x * (1 - x)"
   ]
  },
  {
   "cell_type": "code",
   "execution_count": null,
   "id": "5265d0ee-4d85-4132-a846-b545e3416551",
   "metadata": {},
   "outputs": [],
   "source": [
    "# propagation\n",
    "@njit\n",
    "def foward():\n",
    "    return\n",
    "\n",
    "@njit \n",
    "def backward():\n",
    "    return"
   ]
  },
  {
   "cell_type": "code",
   "execution_count": null,
   "id": "e5def250-515d-4f54-b65f-d06975548acd",
   "metadata": {},
   "outputs": [],
   "source": [
    "@njit(double[:](double[:], double[:]), parallel = True)\n",
    "def extract_swarm_features(input_layer, swarm_filter):\n",
    "    features = np.empty(swarm_filter.shape)\n",
    "    for i in prange(features.shape[0]):\n",
    "        features[i] = (input_layer * swarm_filter[i]).mean()\n",
    "    return features\n",
    "\n"
   ]
  },
  {
   "cell_type": "code",
   "execution_count": null,
   "id": "5d87d393-313c-499b-86f8-8169194f9629",
   "metadata": {},
   "outputs": [],
   "source": [
    "class NeuralNetwork:\n",
    "    def __init__(\n",
    "        self,\n",
    "        layer_sizes,\n",
    "        layer_activation,\n",
    "        weights,\n",
    "        biases,\n",
    "        learning_rate\n",
    "    ):\n",
    "        self.layer_sizes = layer_sizes\n",
    "        self.layer_activation = layer_activation\n",
    "        self.weights = weights\n",
    "        self.biases = biases\n",
    "        self.learning_rate = learning_rate\n",
    "\n",
    "    def add_layer(layer_type, size, activation=\"sigmoid\"):\n",
    "        ###\n",
    "\n",
    "    def train(self, X, y, epochs):\n",
    "\n",
    "        for e in range(epochs):\n",
    "            \n",
    "        ###\n",
    "\n",
    "    def predict(self, X):\n",
    "        y = None\n",
    "        return y"
   ]
  },
  {
   "cell_type": "code",
   "execution_count": null,
   "id": "104dae9b-a11b-49e9-8bff-b40c82e75670",
   "metadata": {},
   "outputs": [],
   "source": []
  }
 ],
 "metadata": {
  "kernelspec": {
   "display_name": "Python 3 (ipykernel)",
   "language": "python",
   "name": "python3"
  },
  "language_info": {
   "codemirror_mode": {
    "name": "ipython",
    "version": 3
   },
   "file_extension": ".py",
   "mimetype": "text/x-python",
   "name": "python",
   "nbconvert_exporter": "python",
   "pygments_lexer": "ipython3",
   "version": "3.11.9"
  }
 },
 "nbformat": 4,
 "nbformat_minor": 5
}
